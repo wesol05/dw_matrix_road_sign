{
  "nbformat": 4,
  "nbformat_minor": 0,
  "metadata": {
    "colab": {
      "name": "matrix3_day5.ipynb",
      "provenance": [],
      "collapsed_sections": [],
      "mount_file_id": "1ZA4tTBafTRifUIoTC4H2YlGl6F5Qa9Hf",
      "authorship_tag": "ABX9TyND0FDoClhxzKuoW8mepxfi",
      "include_colab_link": true
    },
    "kernelspec": {
      "name": "python3",
      "display_name": "Python 3"
    },
    "accelerator": "GPU"
  },
  "cells": [
    {
      "cell_type": "markdown",
      "metadata": {
        "id": "view-in-github",
        "colab_type": "text"
      },
      "source": [
        "<a href=\"https://colab.research.google.com/github/wesol05/dw_matrix_road_sign/blob/master/matrix3_day5.ipynb\" target=\"_parent\"><img src=\"https://colab.research.google.com/assets/colab-badge.svg\" alt=\"Open In Colab\"/></a>"
      ]
    },
    {
      "cell_type": "code",
      "metadata": {
        "id": "Vfmns858a-iJ",
        "colab_type": "code",
        "colab": {
          "base_uri": "https://localhost:8080/",
          "height": 34
        },
        "outputId": "3adde66f-bd72-401d-8dad-fce44b387c96"
      },
      "source": [
        "cd /content/drive/My Drive/Colab Notebooks/matrix_three/data"
      ],
      "execution_count": 5,
      "outputs": [
        {
          "output_type": "stream",
          "text": [
            "/content/drive/My Drive/Colab Notebooks/matrix_three/data\n"
          ],
          "name": "stdout"
        }
      ]
    },
    {
      "cell_type": "code",
      "metadata": {
        "id": "zYrZO65PcEqh",
        "colab_type": "code",
        "colab": {
          "base_uri": "https://localhost:8080/",
          "height": 190
        },
        "outputId": "8e2eeca1-796a-470f-9aa9-6bac7704e4b6"
      },
      "source": [
        "!pip install hyperopt"
      ],
      "execution_count": 2,
      "outputs": [
        {
          "output_type": "stream",
          "text": [
            "Requirement already satisfied: hyperopt in /usr/local/lib/python3.6/dist-packages (0.1.2)\n",
            "Requirement already satisfied: future in /usr/local/lib/python3.6/dist-packages (from hyperopt) (0.16.0)\n",
            "Requirement already satisfied: networkx in /usr/local/lib/python3.6/dist-packages (from hyperopt) (2.4)\n",
            "Requirement already satisfied: six in /usr/local/lib/python3.6/dist-packages (from hyperopt) (1.12.0)\n",
            "Requirement already satisfied: numpy in /usr/local/lib/python3.6/dist-packages (from hyperopt) (1.18.2)\n",
            "Requirement already satisfied: tqdm in /usr/local/lib/python3.6/dist-packages (from hyperopt) (4.38.0)\n",
            "Requirement already satisfied: pymongo in /usr/local/lib/python3.6/dist-packages (from hyperopt) (3.10.1)\n",
            "Requirement already satisfied: scipy in /usr/local/lib/python3.6/dist-packages (from hyperopt) (1.4.1)\n",
            "Requirement already satisfied: decorator>=4.3.0 in /usr/local/lib/python3.6/dist-packages (from networkx->hyperopt) (4.4.2)\n"
          ],
          "name": "stdout"
        }
      ]
    },
    {
      "cell_type": "code",
      "metadata": {
        "id": "MJv30NUVbfwc",
        "colab_type": "code",
        "colab": {
          "base_uri": "https://localhost:8080/",
          "height": 51
        },
        "outputId": "2644643c-e737-4383-8c42-e90843a2e5b4"
      },
      "source": [
        "import pandas as pd\n",
        "import numpy as np\n",
        "import os\n",
        "import datetime\n",
        "\n",
        "import tensorflow as tf\n",
        "from tensorflow.keras.models import Sequential\n",
        "from tensorflow.keras.layers import Conv2D, MaxPool2D, Dense, Flatten, Dropout\n",
        "from tensorflow.keras.utils import to_categorical\n",
        "\n",
        "%load_ext tensorboard\n",
        "\n",
        "import matplotlib.pyplot as plt\n",
        "from skimage import color, exposure\n",
        "from sklearn.metrics import accuracy_score\n",
        "\n",
        "from hyperopt import hp, STATUS_OK, tpe, Trials, fmin"
      ],
      "execution_count": 13,
      "outputs": [
        {
          "output_type": "stream",
          "text": [
            "The tensorboard extension is already loaded. To reload it, use:\n",
            "  %reload_ext tensorboard\n"
          ],
          "name": "stdout"
        }
      ]
    },
    {
      "cell_type": "code",
      "metadata": {
        "id": "zClWuSj7cOQy",
        "colab_type": "code",
        "colab": {}
      },
      "source": [
        "train = pd.read_pickle('train.p')\n",
        "test = pd.read_pickle('test.p')\n",
        "\n",
        "X_train, y_train = train['features'], train['labels']\n",
        "X_test, y_test = test['features'], test['labels']"
      ],
      "execution_count": 0,
      "outputs": []
    },
    {
      "cell_type": "code",
      "metadata": {
        "id": "3FP4n6-Ecb3c",
        "colab_type": "code",
        "colab": {}
      },
      "source": [
        "if y_train.ndim == 1 : y_train = to_categorical(y_train)\n",
        "if y_test.ndim == 1 : y_test = to_categorical(y_test)\n",
        "input_shape = X_train.shape[1:]\n",
        "num_classes = y_train.shape[1]"
      ],
      "execution_count": 0,
      "outputs": []
    },
    {
      "cell_type": "code",
      "metadata": {
        "id": "He--RsHYcjcH",
        "colab_type": "code",
        "colab": {}
      },
      "source": [
        "def train_model(model, X_train, y_train, params_fit={}):\n",
        "  model.compile(loss='categorical_crossentropy', optimizer='Adam', metrics=['accuracy'])\n",
        "\n",
        "  logdir=os.path.join('logs', datetime.datetime.now().strftime('%Y%m%d-%H%M%S'))\n",
        "  tensorboard_callback = tf.keras.callbacks.TensorBoard(logdir, histogram_freq=1)\n",
        "\n",
        "  model.fit(\n",
        "      X_train, \n",
        "      y_train,\n",
        "      batch_size=params_fit.get('batch_size', 128),\n",
        "      epochs=params_fit.get('epochs', 5),\n",
        "      verbose=params_fit.get('verbose', 1),\n",
        "      validation_data=params_fit.get('validation_data', (X_train, y_train)),\n",
        "      callbacks=[tensorboard_callback]\n",
        "\n",
        "  )\n",
        "\n",
        "  return model"
      ],
      "execution_count": 0,
      "outputs": []
    },
    {
      "cell_type": "code",
      "metadata": {
        "id": "Bdg3QcVXcp6v",
        "colab_type": "code",
        "colab": {}
      },
      "source": [
        "def predict(model_trained, X_test, y_test, scoring=accuracy_score):\n",
        "  y_test_norm = np.argmax(y_test, axis=1)\n",
        "\n",
        "  y_pred_prob = model_trained.predict(X_test)\n",
        "  y_pred = np.argmax(y_pred_prob, axis=1)\n",
        "\n",
        "  return scoring(y_test_norm, y_pred)"
      ],
      "execution_count": 0,
      "outputs": []
    },
    {
      "cell_type": "code",
      "metadata": {
        "id": "oUSC1SJnc-EP",
        "colab_type": "code",
        "colab": {}
      },
      "source": [
        "def train_and_predict(model):\n",
        "  model_trained = train_model(model, X_train, y_train)\n",
        "\n",
        "  return predict(model_trained, X_test, y_test)"
      ],
      "execution_count": 0,
      "outputs": []
    },
    {
      "cell_type": "code",
      "metadata": {
        "id": "HkcqI5sfcseJ",
        "colab_type": "code",
        "colab": {
          "base_uri": "https://localhost:8080/",
          "height": 224
        },
        "outputId": "e0e25090-aad7-4db1-e486-a668129b6815"
      },
      "source": [
        "def get_cnn_v5(input_shape, num_classes):\n",
        "  return Sequential((\n",
        "      Conv2D(filters=32, kernel_size=(3,3), activation='relu', input_shape=input_shape),\n",
        "      Conv2D(filters=32, kernel_size=(3,3), activation='relu', padding='same'),\n",
        "      MaxPool2D(),\n",
        "      Dropout(0.3),\n",
        "\n",
        "      Conv2D(filters=64, kernel_size=(3,3), activation='relu', padding='same'),\n",
        "      Conv2D(filters=64, kernel_size=(3,3), activation='relu'),\n",
        "      MaxPool2D(),\n",
        "      Dropout(0.3),\n",
        "\n",
        "      Conv2D(filters=64, kernel_size=(3,3), activation='relu', padding='same'),\n",
        "      Conv2D(filters=64, kernel_size=(3,3), activation='relu'),\n",
        "      MaxPool2D(),\n",
        "      Dropout(0.3),\n",
        "\n",
        "      Flatten(),\n",
        "\n",
        "      Dense(1024, activation='relu'),\n",
        "      Dropout(0.3),\n",
        "\n",
        "      Dense(1024, activation='relu'),\n",
        "      Dropout(0.3),\n",
        "\n",
        "      Dense(num_classes, activation='softmax')\n",
        "  ))\n",
        "\n",
        "train_and_predict(get_cnn_v5(input_shape, num_classes))\n"
      ],
      "execution_count": 12,
      "outputs": [
        {
          "output_type": "stream",
          "text": [
            "Epoch 1/5\n",
            "272/272 [==============================] - 4s 14ms/step - loss: 2.6056 - accuracy: 0.2897 - val_loss: 1.0165 - val_accuracy: 0.6813\n",
            "Epoch 2/5\n",
            "272/272 [==============================] - 4s 13ms/step - loss: 0.8375 - accuracy: 0.7305 - val_loss: 0.2777 - val_accuracy: 0.9064\n",
            "Epoch 3/5\n",
            "272/272 [==============================] - 4s 13ms/step - loss: 0.4337 - accuracy: 0.8631 - val_loss: 0.1298 - val_accuracy: 0.9630\n",
            "Epoch 4/5\n",
            "272/272 [==============================] - 4s 13ms/step - loss: 0.2882 - accuracy: 0.9099 - val_loss: 0.0720 - val_accuracy: 0.9791\n",
            "Epoch 5/5\n",
            "272/272 [==============================] - 4s 13ms/step - loss: 0.2220 - accuracy: 0.9322 - val_loss: 0.0579 - val_accuracy: 0.9831\n"
          ],
          "name": "stdout"
        },
        {
          "output_type": "execute_result",
          "data": {
            "text/plain": [
              "0.9562358276643991"
            ]
          },
          "metadata": {
            "tags": []
          },
          "execution_count": 12
        }
      ]
    },
    {
      "cell_type": "code",
      "metadata": {
        "id": "h6cMQYNSdRDK",
        "colab_type": "code",
        "colab": {}
      },
      "source": [
        "def get_model(params):\n",
        "  return Sequential((\n",
        "      Conv2D(filters=32, kernel_size=(3,3), activation='relu', input_shape=input_shape),\n",
        "      Conv2D(filters=32, kernel_size=(3,3), activation='relu', padding='same'),\n",
        "      MaxPool2D(),\n",
        "      Dropout(params['dropout_cnn_block_one']),\n",
        "\n",
        "      Conv2D(filters=64, kernel_size=(3,3), activation='relu', padding='same'),\n",
        "      Conv2D(filters=64, kernel_size=(3,3), activation='relu'),\n",
        "      MaxPool2D(),\n",
        "      Dropout(params['dropout_cnn_block_two']),\n",
        "\n",
        "      Conv2D(filters=128, kernel_size=(3,3), activation='relu', padding='same'),\n",
        "      Conv2D(filters=128, kernel_size=(3,3), activation='relu'),\n",
        "      MaxPool2D(),\n",
        "      Dropout(params['dropout_cnn_block_three']),\n",
        "\n",
        "      Flatten(),\n",
        "\n",
        "      Dense(1024, activation='relu'),\n",
        "      Dropout(params['dropout_dense_block_one']),\n",
        "\n",
        "      Dense(1024, activation='relu'),\n",
        "      Dropout(params['dropout_dense_block_two']),\n",
        "\n",
        "      Dense(num_classes, activation='softmax')\n",
        "  ))\n",
        "\n",
        "def func_obj(params):\n",
        "  model = get_model(params)\n",
        "  model.compile(loss='categorical_crossentropy', optimizer='Adam', metrics=['accuracy'])\n",
        "\n",
        "  model.fit(\n",
        "      X_train, \n",
        "      y_train,\n",
        "      batch_size=int(params.get('batch_size', 128)),\n",
        "      epochs=5,\n",
        "      verbose=0\n",
        "  )\n",
        "\n",
        "  score = model.evaluate(X_test, y_test, verbose=0)\n",
        "  accuracy = score[1]\n",
        "  print(params, 'accurany={}'.format(accuracy))\n",
        "\n",
        "  return {'loss': -accuracy, 'status': STATUS_OK, 'model': model}"
      ],
      "execution_count": 0,
      "outputs": []
    },
    {
      "cell_type": "code",
      "metadata": {
        "id": "Z5D71bxTfjFJ",
        "colab_type": "code",
        "colab": {
          "base_uri": "https://localhost:8080/",
          "height": 1000
        },
        "outputId": "7c8209fe-e1b0-48a2-8b3b-ee3b9062fcba"
      },
      "source": [
        "space = {\n",
        "    'batch_size': hp.quniform('batch_size', 100, 200, 10),\n",
        "    'dropout_cnn_block_one': hp.uniform('dropout_cnn_block_one', 0.3, 0.5),\n",
        "    'dropout_cnn_block_two': hp.uniform('dropout_cnn_block_two', 0.3, 0.5),\n",
        "    'dropout_cnn_block_three': hp.uniform('dropout_cnn_block_three', 0.3, 0.5),\n",
        "    'dropout_dense_block_one': hp.uniform('dropout_dense_block_one', 0.3, 0.7),\n",
        "    'dropout_dense_block_two': hp.uniform('dropout_dense_block_two', 0.3, 0.7)\n",
        "}\n",
        "\n",
        "best = fmin(\n",
        "    func_obj,\n",
        "    space,\n",
        "    tpe.suggest,\n",
        "    30,\n",
        "    Trials()\n",
        ")"
      ],
      "execution_count": 24,
      "outputs": [
        {
          "output_type": "stream",
          "text": [
            "{'batch_size': 200.0, 'dropout_cnn_block_one': 0.41062588780286247, 'dropout_cnn_block_three': 0.3832998907384372, 'dropout_cnn_block_two': 0.4401518471947107, 'dropout_dense_block_one': 0.603385234932299, 'dropout_dense_block_two': 0.6766750715367547}\n",
            "accurany=0.7936508059501648\n",
            "{'batch_size': 100.0, 'dropout_cnn_block_one': 0.32100969118238787, 'dropout_cnn_block_three': 0.39210965218717364, 'dropout_cnn_block_two': 0.43660957256536226, 'dropout_dense_block_one': 0.6869941576972738, 'dropout_dense_block_two': 0.6676227563024388}\n",
            "accurany=0.9306122660636902\n",
            "{'batch_size': 130.0, 'dropout_cnn_block_one': 0.3339205432410491, 'dropout_cnn_block_three': 0.3376286788572822, 'dropout_cnn_block_two': 0.30856077369924534, 'dropout_dense_block_one': 0.683082511137193, 'dropout_dense_block_two': 0.6213209686035601}\n",
            "accurany=0.9621315002441406\n",
            "{'batch_size': 190.0, 'dropout_cnn_block_one': 0.41844648714334315, 'dropout_cnn_block_three': 0.4517537645474782, 'dropout_cnn_block_two': 0.42100451758804774, 'dropout_dense_block_one': 0.651222934897504, 'dropout_dense_block_two': 0.3085055006648675}\n",
            "accurany=0.857369601726532\n",
            "{'batch_size': 130.0, 'dropout_cnn_block_one': 0.3579696486337104, 'dropout_cnn_block_three': 0.39640035248123207, 'dropout_cnn_block_two': 0.36735737540789903, 'dropout_dense_block_one': 0.41651242601864324, 'dropout_dense_block_two': 0.5950835539073579}\n",
            "accurany=0.9616780281066895\n",
            "{'batch_size': 140.0, 'dropout_cnn_block_one': 0.3044924744059378, 'dropout_cnn_block_three': 0.4649815807723393, 'dropout_cnn_block_two': 0.31823667357233787, 'dropout_dense_block_one': 0.4256965001927275, 'dropout_dense_block_two': 0.560413307600715}\n",
            "accurany=0.96417236328125\n",
            "{'batch_size': 140.0, 'dropout_cnn_block_one': 0.4335430399906758, 'dropout_cnn_block_three': 0.4050348133352658, 'dropout_cnn_block_two': 0.42356799445664933, 'dropout_dense_block_one': 0.519495457599316, 'dropout_dense_block_two': 0.5810518516708372}\n",
            "accurany=0.9281179308891296\n",
            "{'batch_size': 110.0, 'dropout_cnn_block_one': 0.4090287379380632, 'dropout_cnn_block_three': 0.4295504675559508, 'dropout_cnn_block_two': 0.49756652377201693, 'dropout_dense_block_one': 0.44335186413825217, 'dropout_dense_block_two': 0.4213552731893868}\n",
            "accurany=0.9324263334274292\n",
            "{'batch_size': 130.0, 'dropout_cnn_block_one': 0.32821410081301694, 'dropout_cnn_block_three': 0.3696340187595571, 'dropout_cnn_block_two': 0.4170183410583706, 'dropout_dense_block_one': 0.6593557101162825, 'dropout_dense_block_two': 0.5877106515205701}\n",
            "accurany=0.9344671368598938\n",
            "{'batch_size': 180.0, 'dropout_cnn_block_one': 0.48209354121893916, 'dropout_cnn_block_three': 0.32526166059629913, 'dropout_cnn_block_two': 0.4769965839510766, 'dropout_dense_block_one': 0.3439908190560298, 'dropout_dense_block_two': 0.3456877212562959}\n",
            "accurany=0.9231292605400085\n",
            "{'batch_size': 190.0, 'dropout_cnn_block_one': 0.35715553993023996, 'dropout_cnn_block_three': 0.3334785868875666, 'dropout_cnn_block_two': 0.3936002208461773, 'dropout_dense_block_one': 0.5785360254182883, 'dropout_dense_block_two': 0.5477047339893488}\n",
            "accurany=0.900453507900238\n",
            "{'batch_size': 100.0, 'dropout_cnn_block_one': 0.3512004807608954, 'dropout_cnn_block_three': 0.3197218048196751, 'dropout_cnn_block_two': 0.4068262571808567, 'dropout_dense_block_one': 0.5749326207170328, 'dropout_dense_block_two': 0.42231662095150385}\n",
            "accurany=0.9523809552192688\n",
            "{'batch_size': 140.0, 'dropout_cnn_block_one': 0.4982775474403219, 'dropout_cnn_block_three': 0.3484592470182159, 'dropout_cnn_block_two': 0.46089779479512755, 'dropout_dense_block_one': 0.4487884699798417, 'dropout_dense_block_two': 0.6775354808216661}\n",
            "accurany=0.9312925338745117\n",
            "{'batch_size': 150.0, 'dropout_cnn_block_one': 0.4298787084101026, 'dropout_cnn_block_three': 0.364003351607298, 'dropout_cnn_block_two': 0.4936441889604872, 'dropout_dense_block_one': 0.45740854879645876, 'dropout_dense_block_two': 0.43674117474253665}\n",
            "accurany=0.9072562456130981\n",
            "{'batch_size': 180.0, 'dropout_cnn_block_one': 0.32381750759191086, 'dropout_cnn_block_three': 0.48019434899968017, 'dropout_cnn_block_two': 0.4571839200558839, 'dropout_dense_block_one': 0.4251962718372848, 'dropout_dense_block_two': 0.436900880068483}\n",
            "accurany=0.9249433279037476\n",
            "{'batch_size': 120.0, 'dropout_cnn_block_one': 0.30748401410082826, 'dropout_cnn_block_three': 0.3099805962393479, 'dropout_cnn_block_two': 0.34247991586908966, 'dropout_dense_block_one': 0.5661108382617113, 'dropout_dense_block_two': 0.42272766106401355}\n",
            "accurany=0.9668934345245361\n",
            "{'batch_size': 180.0, 'dropout_cnn_block_one': 0.3369388063415279, 'dropout_cnn_block_three': 0.387243490794805, 'dropout_cnn_block_two': 0.35506495647563924, 'dropout_dense_block_one': 0.33808735956395997, 'dropout_dense_block_two': 0.6971878264580977}\n",
            "accurany=0.9412698149681091\n",
            "{'batch_size': 150.0, 'dropout_cnn_block_one': 0.3090782297998038, 'dropout_cnn_block_three': 0.40881499070811317, 'dropout_cnn_block_two': 0.41079706196524296, 'dropout_dense_block_one': 0.5384145973434906, 'dropout_dense_block_two': 0.36724346384695217}\n",
            "accurany=0.9351474046707153\n",
            "{'batch_size': 130.0, 'dropout_cnn_block_one': 0.4617686320701956, 'dropout_cnn_block_three': 0.319723708735418, 'dropout_cnn_block_two': 0.3189354618268615, 'dropout_dense_block_one': 0.4887864572567438, 'dropout_dense_block_two': 0.637207756285387}\n",
            "accurany=0.9213151931762695\n",
            "{'batch_size': 140.0, 'dropout_cnn_block_one': 0.301300759064889, 'dropout_cnn_block_three': 0.3299079512739697, 'dropout_cnn_block_two': 0.33797365718452865, 'dropout_dense_block_one': 0.5154572697839993, 'dropout_dense_block_two': 0.5307133996515236}\n",
            "accurany=0.9707483053207397\n",
            "{'batch_size': 110.0, 'dropout_cnn_block_one': 0.3848047015655667, 'dropout_cnn_block_three': 0.30486886472885866, 'dropout_cnn_block_two': 0.3490569662971596, 'dropout_dense_block_one': 0.6166780422841862, 'dropout_dense_block_two': 0.5045755280705349}\n",
            "accurany=0.9331066012382507\n",
            "{'batch_size': 160.0, 'dropout_cnn_block_one': 0.38949821737524254, 'dropout_cnn_block_three': 0.3053177259686718, 'dropout_cnn_block_two': 0.3371726865710751, 'dropout_dense_block_one': 0.48711162419080273, 'dropout_dense_block_two': 0.487656982296386}\n",
            "accurany=0.9328798055648804\n",
            "{'batch_size': 120.0, 'dropout_cnn_block_one': 0.3735487679302934, 'dropout_cnn_block_three': 0.3540630403633741, 'dropout_cnn_block_two': 0.37681124470597216, 'dropout_dense_block_one': 0.5451896259815333, 'dropout_dense_block_two': 0.48742876717121336}\n",
            "accurany=0.9392290115356445\n",
            "{'batch_size': 160.0, 'dropout_cnn_block_one': 0.30381100379455317, 'dropout_cnn_block_three': 0.3060168520316727, 'dropout_cnn_block_two': 0.3005264870074999, 'dropout_dense_block_one': 0.37372553723459045, 'dropout_dense_block_two': 0.5250952005772849}\n",
            "accurany=0.978458046913147\n",
            "{'batch_size': 160.0, 'dropout_cnn_block_one': 0.3000489898739401, 'dropout_cnn_block_three': 0.3021145802355858, 'dropout_cnn_block_two': 0.30001692022892384, 'dropout_dense_block_one': 0.3021490124583881, 'dropout_dense_block_two': 0.5204374947349882}\n",
            "accurany=0.9528344869613647\n",
            "{'batch_size': 160.0, 'dropout_cnn_block_one': 0.34360642222129045, 'dropout_cnn_block_three': 0.3437787200241874, 'dropout_cnn_block_two': 0.3261099832082731, 'dropout_dense_block_one': 0.38212152078137357, 'dropout_dense_block_two': 0.4659879758509683}\n",
            "accurany=0.9555555582046509\n",
            "{'batch_size': 170.0, 'dropout_cnn_block_one': 0.3650527519637143, 'dropout_cnn_block_three': 0.37011049511352556, 'dropout_cnn_block_two': 0.38003739593715646, 'dropout_dense_block_one': 0.3756907608137895, 'dropout_dense_block_two': 0.5353258289275469}\n",
            "accurany=0.962358295917511\n",
            "{'batch_size': 170.0, 'dropout_cnn_block_one': 0.31947288535674584, 'dropout_cnn_block_three': 0.328202447386547, 'dropout_cnn_block_two': 0.30675872206223126, 'dropout_dense_block_one': 0.3815868928502032, 'dropout_dense_block_two': 0.46534229196955024}\n",
            "accurany=0.9419501423835754\n",
            "{'batch_size': 150.0, 'dropout_cnn_block_one': 0.4588280823241774, 'dropout_cnn_block_three': 0.43791978202490683, 'dropout_cnn_block_two': 0.3326340453262125, 'dropout_dense_block_one': 0.3122029836322027, 'dropout_dense_block_two': 0.6212598429530117}\n",
            "accurany=0.9043083786964417\n",
            "{'batch_size': 170.0, 'dropout_cnn_block_one': 0.387344832577133, 'dropout_cnn_block_three': 0.3002067757225569, 'dropout_cnn_block_two': 0.3610811386893799, 'dropout_dense_block_one': 0.6182482714637468, 'dropout_dense_block_two': 0.565327603921401}\n",
            "accurany=0.9163265228271484\n",
            "100%|██████████| 30/30 [05:24<00:00, 10.83s/it, best loss: -0.978458046913147]\n"
          ],
          "name": "stdout"
        }
      ]
    },
    {
      "cell_type": "code",
      "metadata": {
        "id": "ZOuBoljljQuJ",
        "colab_type": "code",
        "colab": {}
      },
      "source": [
        ""
      ],
      "execution_count": 0,
      "outputs": []
    }
  ]
}